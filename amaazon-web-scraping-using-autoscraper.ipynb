{
 "cells": [
  {
   "cell_type": "code",
   "execution_count": 54,
   "metadata": {},
   "outputs": [],
   "source": [
    "from autoscraper import AutoScraper"
   ]
  },
  {
   "cell_type": "code",
   "execution_count": 55,
   "metadata": {},
   "outputs": [],
   "source": [
    "amazon_url = \"https://www.amazon.in/s?k=iphones&ref=nb_sb_noss\"\n",
    "\n",
    "wanted_items = [\"₹59,900 \", \"New Apple iPhone 11 (128GB) - White\"]"
   ]
  },
  {
   "cell_type": "code",
   "execution_count": 56,
   "metadata": {},
   "outputs": [
    {
     "data": {
      "text/plain": [
       "['₹59,900',\n",
       " '₹82,400',\n",
       " '₹84,900',\n",
       " '₹1,25,900',\n",
       " '₹1,29,900',\n",
       " '₹65,900',\n",
       " '₹69,900',\n",
       " '₹66,900',\n",
       " '₹77,900',\n",
       " '₹79,900',\n",
       " '₹74,900',\n",
       " '₹93,900',\n",
       " '₹1,23,900',\n",
       " '₹1,35,900',\n",
       " '₹1,39,900',\n",
       " '₹1,55,900',\n",
       " '₹1,59,900',\n",
       " '₹86,900',\n",
       " '₹1,21,300',\n",
       " '₹57,400',\n",
       " 'New Apple iPhone 11 (128GB) - White',\n",
       " 'New Apple iPhone 12 (128GB) - Blue',\n",
       " 'New Apple iPhone 11 (128GB) - Green',\n",
       " 'New Apple iPhone 12 Pro Max (128GB) - Pacific Blue',\n",
       " 'New Apple iPhone 12 Mini (64GB) - Black',\n",
       " 'New Apple iPhone 12 Mini (64GB) - Blue',\n",
       " 'New Apple iPhone 12 (64GB) - Blue',\n",
       " 'New Apple iPhone 12 Mini (64GB) - White',\n",
       " 'New Apple iPhone 12 Mini (128GB) - Green',\n",
       " 'New Apple iPhone 12 (64GB) - Black',\n",
       " 'Apple iPhone 11 Pro Max (256GB) - Midnight Green',\n",
       " 'New Apple iPhone 12 Pro Max (256GB) - Graphite',\n",
       " 'New Apple iPhone 12 Pro Max (512GB) - Pacific Blue',\n",
       " 'New Apple iPhone 12 (64GB) - Green',\n",
       " 'Apple iPhone 11 Pro (256GB) - Space Grey']"
      ]
     },
     "execution_count": 56,
     "metadata": {},
     "output_type": "execute_result"
    }
   ],
   "source": [
    "scraper = AutoScraper()\n",
    "scraper.build(amazon_url, wanted_items)"
   ]
  },
  {
   "cell_type": "code",
   "execution_count": 57,
   "metadata": {},
   "outputs": [
    {
     "data": {
      "text/plain": [
       "{'rule_ywuu': ['₹59,900',\n",
       "  '₹82,400',\n",
       "  '₹84,900',\n",
       "  '₹59,900',\n",
       "  '₹1,25,900',\n",
       "  '₹1,29,900',\n",
       "  '₹65,900',\n",
       "  '₹69,900',\n",
       "  '₹58,400',\n",
       "  '₹59,900',\n",
       "  '₹66,900',\n",
       "  '₹69,900',\n",
       "  '₹77,900',\n",
       "  '₹79,900',\n",
       "  '₹74,900',\n",
       "  '₹77,900',\n",
       "  '₹79,900',\n",
       "  '₹93,900',\n",
       "  '₹1,23,900',\n",
       "  '₹1,35,900',\n",
       "  '₹1,39,900',\n",
       "  '₹86,900',\n",
       "  '₹1,21,300',\n",
       "  '₹66,900',\n",
       "  '₹69,900',\n",
       "  '₹77,900',\n",
       "  '₹79,900'],\n",
       " 'rule_hkqv': ['₹59,900',\n",
       "  '₹82,400',\n",
       "  '₹84,900',\n",
       "  '₹59,900',\n",
       "  '₹1,25,900',\n",
       "  '₹1,29,900',\n",
       "  '₹65,900',\n",
       "  '₹69,900',\n",
       "  '₹58,400',\n",
       "  '₹59,900',\n",
       "  '₹66,900',\n",
       "  '₹69,900',\n",
       "  '₹77,900',\n",
       "  '₹79,900',\n",
       "  '₹74,900',\n",
       "  '₹77,900',\n",
       "  '₹79,900',\n",
       "  '₹93,900',\n",
       "  '₹1,23,900',\n",
       "  '₹1,35,900',\n",
       "  '₹1,39,900',\n",
       "  '₹86,900',\n",
       "  '₹1,21,300',\n",
       "  '₹66,900',\n",
       "  '₹69,900',\n",
       "  '₹77,900',\n",
       "  '₹79,900'],\n",
       " 'rule_0pxm': ['₹57,400', '₹59,900'],\n",
       " 'rule_63jr': ['₹57,400', '₹59,900'],\n",
       " 'rule_ci66': ['₹59,900',\n",
       "  '₹82,400',\n",
       "  '₹84,900',\n",
       "  '₹59,900',\n",
       "  '₹1,25,900',\n",
       "  '₹1,29,900',\n",
       "  '₹65,900',\n",
       "  '₹69,900',\n",
       "  '₹58,400',\n",
       "  '₹59,900',\n",
       "  '₹66,900',\n",
       "  '₹69,900',\n",
       "  '₹77,900',\n",
       "  '₹79,900',\n",
       "  '₹74,900',\n",
       "  '₹77,900',\n",
       "  '₹79,900',\n",
       "  '₹93,900',\n",
       "  '₹1,23,900',\n",
       "  '₹1,35,900',\n",
       "  '₹1,39,900',\n",
       "  '₹86,900',\n",
       "  '₹1,21,300',\n",
       "  '₹66,900',\n",
       "  '₹69,900',\n",
       "  '₹77,900',\n",
       "  '₹79,900'],\n",
       " 'rule_7i1g': ['₹59,900',\n",
       "  '₹82,400',\n",
       "  '₹84,900',\n",
       "  '₹59,900',\n",
       "  '₹1,25,900',\n",
       "  '₹1,29,900',\n",
       "  '₹65,900',\n",
       "  '₹69,900',\n",
       "  '₹58,400',\n",
       "  '₹59,900',\n",
       "  '₹66,900',\n",
       "  '₹69,900',\n",
       "  '₹77,900',\n",
       "  '₹79,900',\n",
       "  '₹74,900',\n",
       "  '₹77,900',\n",
       "  '₹79,900',\n",
       "  '₹93,900',\n",
       "  '₹1,23,900',\n",
       "  '₹1,35,900',\n",
       "  '₹1,39,900',\n",
       "  '₹86,900',\n",
       "  '₹1,21,300',\n",
       "  '₹66,900',\n",
       "  '₹69,900',\n",
       "  '₹77,900',\n",
       "  '₹79,900'],\n",
       " 'rule_cvad': ['₹57,400', '₹59,900', '₹69,900', '₹74,900'],\n",
       " 'rule_n4uu': ['₹57,400', '₹59,900', '₹69,900', '₹74,900'],\n",
       " 'rule_1y8t': ['New Apple iPhone 11 (128GB) - White',\n",
       "  'New Apple iPhone 12 (128GB) - Blue',\n",
       "  'New Apple iPhone 11 (128GB) - Green',\n",
       "  'New Apple iPhone 12 Pro Max (128GB) - Pacific Blue',\n",
       "  'New Apple iPhone 12 Mini (64GB) - Black',\n",
       "  'New Apple iPhone 11 (128GB) - (Product) RED',\n",
       "  'New Apple iPhone 12 Mini (64GB) - Blue',\n",
       "  'New Apple iPhone 12 (64GB) - Blue',\n",
       "  'New Apple iPhone 12 Mini (128GB) - Green',\n",
       "  'New Apple iPhone 12 (64GB) - Black',\n",
       "  'Apple iPhone 11 Pro Max (256GB) - Midnight Green',\n",
       "  'New Apple iPhone 12 Pro Max (256GB) - Graphite',\n",
       "  'Apple iPhone 11 Pro (256GB) - Space Grey',\n",
       "  'New Apple iPhone 12 Mini (64GB) - White',\n",
       "  'New Apple iPhone 12 (64GB) - Green'],\n",
       " 'rule_36p8': ['New Apple iPhone 11 (128GB) - White',\n",
       "  'New Apple iPhone 12 (128GB) - Blue',\n",
       "  'New Apple iPhone 11 (128GB) - Green',\n",
       "  'New Apple iPhone 12 Pro Max (128GB) - Pacific Blue',\n",
       "  'New Apple iPhone 12 Mini (64GB) - Black',\n",
       "  'New Apple iPhone 11 (128GB) - (Product) RED',\n",
       "  'New Apple iPhone 12 Mini (64GB) - Blue',\n",
       "  'New Apple iPhone 12 (64GB) - Blue',\n",
       "  'New Apple iPhone 12 Mini (128GB) - Green',\n",
       "  'New Apple iPhone 12 (64GB) - Black',\n",
       "  'Apple iPhone 11 Pro Max (256GB) - Midnight Green',\n",
       "  'New Apple iPhone 12 Pro Max (256GB) - Graphite',\n",
       "  'Apple iPhone 11 Pro (256GB) - Space Grey',\n",
       "  'New Apple iPhone 12 Mini (64GB) - White',\n",
       "  'New Apple iPhone 12 (64GB) - Green']}"
      ]
     },
     "execution_count": 57,
     "metadata": {},
     "output_type": "execute_result"
    }
   ],
   "source": [
    "scraper.get_result_similar(amazon_url, grouped = True)"
   ]
  },
  {
   "cell_type": "code",
   "execution_count": 58,
   "metadata": {},
   "outputs": [],
   "source": [
    "scraper.set_rule_aliases({'rule_1y8t': 'Title','rule_7i1g':'Price'})\n"
   ]
  },
  {
   "cell_type": "code",
   "execution_count": 59,
   "metadata": {},
   "outputs": [],
   "source": [
    "scraper.keep_rules(['rule_65vt','rule_m56s'])\n",
    "scraper.save('amazon-search')"
   ]
  },
  {
   "cell_type": "code",
   "execution_count": 63,
   "metadata": {},
   "outputs": [],
   "source": [
    "results = scraper.get_result_similar('https://www.amazon.in/s?k=mi+phones&ref=nb_sb_noss') #, group_by_alias = True)"
   ]
  },
  {
   "cell_type": "code",
   "execution_count": 65,
   "metadata": {},
   "outputs": [
    {
     "data": {
      "text/plain": [
       "[]"
      ]
     },
     "execution_count": 65,
     "metadata": {},
     "output_type": "execute_result"
    }
   ],
   "source": []
  },
  {
   "cell_type": "code",
   "execution_count": null,
   "metadata": {},
   "outputs": [],
   "source": []
  },
  {
   "cell_type": "code",
   "execution_count": null,
   "metadata": {},
   "outputs": [],
   "source": []
  },
  {
   "cell_type": "code",
   "execution_count": null,
   "metadata": {},
   "outputs": [],
   "source": []
  }
 ],
 "metadata": {
  "kernelspec": {
   "display_name": "Python 3",
   "language": "python",
   "name": "python3"
  },
  "language_info": {
   "codemirror_mode": {
    "name": "ipython",
    "version": 3
   },
   "file_extension": ".py",
   "mimetype": "text/x-python",
   "name": "python",
   "nbconvert_exporter": "python",
   "pygments_lexer": "ipython3",
   "version": "3.8.5"
  }
 },
 "nbformat": 4,
 "nbformat_minor": 4
}
